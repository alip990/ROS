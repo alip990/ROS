{
 "cells": [
  {
   "cell_type": "code",
   "execution_count": null,
   "metadata": {},
   "outputs": [],
   "source": [
    "from ros_basic_motion_analysis import Motion_vector\n",
    "import rospy\n",
    "from std_msgs.msg import Float32\n",
    "from std_msgs.msg import String\n",
    "from geometry_msgs.msg import Twist\n",
    "q = Motion_vector()\n",
    "\n",
    "class ROS_motion:\n",
    "    def __init__(self):\n",
    "        rospy.init_node('DC_motor', anonymous=True)\n",
    "        rospy.Subscriber('/cmd_vel', Twist, self.callback)\n",
    "    def callback(self,data):\n",
    "        l = data.linear.x\n",
    "        a = data.angular.z\n",
    "        \n",
    "        if l>0 and a == 0:\n",
    "            q.forword()\n",
    "        elif l>0 and a >0:\n",
    "            q.left()\n",
    "        elif l > 0 and a < 0:\n",
    "            q.right()\n",
    "        elif l < 0 :\n",
    "            q.backword()\n",
    "        else:\n",
    "            q.all_stop()\n",
    "        \n",
    "        "
   ]
  },
  {
   "cell_type": "code",
   "execution_count": null,
   "metadata": {},
   "outputs": [],
   "source": []
  }
 ],
 "metadata": {
  "kernelspec": {
   "display_name": "Python 3",
   "language": "python",
   "name": "python3"
  },
  "language_info": {
   "codemirror_mode": {
    "name": "ipython",
    "version": 3
   },
   "file_extension": ".py",
   "mimetype": "text/x-python",
   "name": "python",
   "nbconvert_exporter": "python",
   "pygments_lexer": "ipython3",
   "version": "3.7.4"
  }
 },
 "nbformat": 4,
 "nbformat_minor": 2
}
